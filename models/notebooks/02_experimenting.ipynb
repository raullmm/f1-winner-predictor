{
 "cells": [
  {
   "cell_type": "code",
   "execution_count": null,
   "metadata": {
    "colab": {
     "base_uri": "https://localhost:8080/"
    },
    "executionInfo": {
     "elapsed": 4576,
     "status": "ok",
     "timestamp": 1749552027326,
     "user": {
      "displayName": "Nacho Zobian Massetti",
      "userId": "09869994053287143535"
     },
     "user_tz": -120
    },
    "id": "dIu41lCqbT5l",
    "outputId": "5812b0d5-2895-44f3-8084-e481a055ad70"
   },
   "outputs": [
    {
     "name": "stdout",
     "output_type": "stream",
     "text": [
      "Requirement already satisfied: kagglehub[pandas-datasets] in /usr/local/lib/python3.11/dist-packages (0.3.12)\n",
      "Requirement already satisfied: packaging in /usr/local/lib/python3.11/dist-packages (from kagglehub[pandas-datasets]) (24.2)\n",
      "Requirement already satisfied: pyyaml in /usr/local/lib/python3.11/dist-packages (from kagglehub[pandas-datasets]) (6.0.2)\n",
      "Requirement already satisfied: requests in /usr/local/lib/python3.11/dist-packages (from kagglehub[pandas-datasets]) (2.32.3)\n",
      "Requirement already satisfied: tqdm in /usr/local/lib/python3.11/dist-packages (from kagglehub[pandas-datasets]) (4.67.1)\n",
      "Requirement already satisfied: pandas in /usr/local/lib/python3.11/dist-packages (from kagglehub[pandas-datasets]) (2.2.2)\n",
      "Requirement already satisfied: numpy>=1.23.2 in /usr/local/lib/python3.11/dist-packages (from pandas->kagglehub[pandas-datasets]) (2.0.2)\n",
      "Requirement already satisfied: python-dateutil>=2.8.2 in /usr/local/lib/python3.11/dist-packages (from pandas->kagglehub[pandas-datasets]) (2.9.0.post0)\n",
      "Requirement already satisfied: pytz>=2020.1 in /usr/local/lib/python3.11/dist-packages (from pandas->kagglehub[pandas-datasets]) (2025.2)\n",
      "Requirement already satisfied: tzdata>=2022.7 in /usr/local/lib/python3.11/dist-packages (from pandas->kagglehub[pandas-datasets]) (2025.2)\n",
      "Requirement already satisfied: charset-normalizer<4,>=2 in /usr/local/lib/python3.11/dist-packages (from requests->kagglehub[pandas-datasets]) (3.4.2)\n",
      "Requirement already satisfied: idna<4,>=2.5 in /usr/local/lib/python3.11/dist-packages (from requests->kagglehub[pandas-datasets]) (3.10)\n",
      "Requirement already satisfied: urllib3<3,>=1.21.1 in /usr/local/lib/python3.11/dist-packages (from requests->kagglehub[pandas-datasets]) (2.4.0)\n",
      "Requirement already satisfied: certifi>=2017.4.17 in /usr/local/lib/python3.11/dist-packages (from requests->kagglehub[pandas-datasets]) (2025.4.26)\n",
      "Requirement already satisfied: six>=1.5 in /usr/local/lib/python3.11/dist-packages (from python-dateutil>=2.8.2->pandas->kagglehub[pandas-datasets]) (1.17.0)\n"
     ]
    }
   ],
   "source": [
    "!pip install kagglehub[pandas-datasets]"
   ]
  },
  {
   "cell_type": "code",
   "execution_count": null,
   "metadata": {
    "colab": {
     "base_uri": "https://localhost:8080/"
    },
    "executionInfo": {
     "elapsed": 1993,
     "status": "ok",
     "timestamp": 1749552055076,
     "user": {
      "displayName": "Nacho Zobian Massetti",
      "userId": "09869994053287143535"
     },
     "user_tz": -120
    },
    "id": "hZQmFb0kbXFi",
    "outputId": "6f9a6054-db8a-4d86-b8bb-f9b2a478f56d"
   },
   "outputs": [
    {
     "name": "stdout",
     "output_type": "stream",
     "text": [
      "Path to dataset files: /kaggle/input/formula-1-race-data\n"
     ]
    }
   ],
   "source": [
    "import kagglehub\n",
    "\n",
    "# Download latest version\n",
    "path = kagglehub.dataset_download(\"jtrotman/formula-1-race-data\")\n",
    "\n",
    "print(\"Path to dataset files:\", path)"
   ]
  },
  {
   "cell_type": "code",
   "execution_count": null,
   "metadata": {
    "id": "RhQ2ByZpbaXw"
   },
   "outputs": [],
   "source": [
    "# =========================================================\n",
    "# Formula-1 dataset → feature table (per driver–race row)\n",
    "# =========================================================\n",
    "import pandas as pd\n",
    "\n",
    "# ---- CONFIG -------------------------------------------------------------\n",
    "PATH  = \"/kaggle/input/formula-1-race-data/\"   # change if needed\n",
    "NULLS = ['\\\\N', '']                            # Ergast NA tokens\n",
    "\n",
    "# ---- 1. Load CSVs --------------------------------------------------------\n",
    "races       = pd.read_csv(f\"{PATH}races.csv\",       na_values=NULLS, parse_dates=['date'])\n",
    "drivers     = pd.read_csv(f\"{PATH}drivers.csv\",     na_values=NULLS, parse_dates=['dob'])\n",
    "results     = pd.read_csv(f\"{PATH}results.csv\",     na_values=NULLS)\n",
    "qualifying  = pd.read_csv(f\"{PATH}qualifying.csv\",  na_values=NULLS)\n",
    "constructors = pd.read_csv(f\"{PATH}constructors.csv\", na_values=NULLS)\n",
    "d_standings = pd.read_csv(f\"{PATH}driver_standings.csv\", na_values=NULLS)\n",
    "\n",
    "# ---- 2. Clean numeric columns & create winner flag ----------------------\n",
    "results['position'] = pd.to_numeric(results['position'], errors='coerce')\n",
    "results['grid']     = pd.to_numeric(results['grid'],     errors='coerce')\n",
    "results['winner']   = (results['position'] == 1).astype(int)\n",
    "\n",
    "# ---- 3. Merge qualifying lap times (q1–q3) + qual position -------------\n",
    "q_cols = ['raceId', 'driverId', 'q1', 'q2', 'q3', 'position']  # 'position' = qual rank\n",
    "df = results.merge(qualifying[q_cols], on=['raceId', 'driverId'], how='left') \\\n",
    "            .rename(columns={'position': 'qual_pos'})\n",
    "\n",
    "# --- 3. Merge qualifying lap times + quali-position --------------------\n",
    "q_cols = ['raceId', 'driverId', 'q1', 'q2', 'q3', 'position']  # 'position' = qual rank\n",
    "df = results.merge(\n",
    "        qualifying[q_cols],\n",
    "        on=['raceId', 'driverId'],\n",
    "        how='left',\n",
    "        suffixes=('', '_qual')       # <-- keeps results columns unchanged\n",
    ")\n",
    "\n",
    "df = df.rename(columns={'position_qual': 'qual_pos',   # qualifying P-number\n",
    "                        'position':      'finish_pos'}) # race result P-number\n",
    "\n",
    "# ---- 4. Add race & driver metadata --------------------------------------\n",
    "df = df.merge(races[['raceId', 'date', 'year', 'round', 'circuitId']],\n",
    "              on='raceId', how='left') \\\n",
    "       .merge(drivers[['driverId', 'dob', 'nationality']],\n",
    "              on='driverId', how='left')\n",
    "\n",
    "df['age'] = ((df['date'] - df['dob']).dt.days // 365).astype('Int16')\n",
    "\n",
    "# ---- 5. Add season-to-date driver points --------------------------------\n",
    "d_stand_prev = (\n",
    "    d_standings\n",
    "      .merge(races[['raceId', 'year', 'round']], on='raceId')\n",
    "      .rename(columns={'points': 'season_pts'})\n",
    ")\n",
    "df = df.merge(d_stand_prev[['raceId', 'driverId', 'season_pts']],\n",
    "              on=['raceId', 'driverId'], how='left')"
   ]
  },
  {
   "cell_type": "code",
   "execution_count": null,
   "metadata": {
    "colab": {
     "base_uri": "https://localhost:8080/"
    },
    "executionInfo": {
     "elapsed": 11,
     "status": "ok",
     "timestamp": 1749554370904,
     "user": {
      "displayName": "Nacho Zobian Massetti",
      "userId": "09869994053287143535"
     },
     "user_tz": -120
    },
    "id": "tEeSLB0VkRIQ",
    "outputId": "27ea4714-45f4-4872-c7a4-1c444d5adb24"
   },
   "outputs": [
    {
     "name": "stdout",
     "output_type": "stream",
     "text": [
      "Index(['resultId', 'raceId', 'driverId', 'constructorId', 'number', 'grid',\n",
      "       'finish_pos', 'positionText', 'positionOrder', 'points', 'laps', 'time',\n",
      "       'milliseconds', 'fastestLap', 'rank', 'fastestLapTime',\n",
      "       'fastestLapSpeed', 'statusId', 'winner', 'q1', 'q2', 'q3', 'qual_pos',\n",
      "       'date', 'year', 'round', 'circuitId', 'dob', 'nationality', 'age',\n",
      "       'season_pts', 'is_winner'],\n",
      "      dtype='object')\n"
     ]
    }
   ],
   "source": [
    "print(df.columns)"
   ]
  },
  {
   "cell_type": "code",
   "execution_count": null,
   "metadata": {
    "id": "fP-UaVmgacvO"
   },
   "outputs": [],
   "source": [
    "# 1️⃣ -- Build modelling table (leak-free) ------------------------\n",
    "\n",
    "target_col = 'is_winner'\n",
    "group_col  = 'raceId'\n",
    "leakage_cols = [\n",
    "    # any column known only after the chequered flag:\n",
    "    'positionOrder', 'positionText', 'points', 'laps', 'milliseconds',\n",
    "    'time', 'rank', 'fastestLap', 'fastestLapTime', 'fastestLapSpeed', 'statusId',\n",
    "    'winner','finish_pos', # Add 'winner' to the list of leakage columns\n",
    "]\n",
    "\n",
    "id_cols   = ['driverId', 'constructorId', group_col]\n",
    "drop_cols = leakage_cols + [target_col]\n",
    "\n",
    "X = df.drop(columns=drop_cols).copy()\n",
    "y      = df[target_col]\n",
    "groups = df[group_col]\n",
    "\n",
    "# 👉 NOW derive column-type lists\n",
    "numeric_cols = X.select_dtypes(include=['number']).columns.tolist()\n",
    "cat_cols     = X.select_dtypes(include=['object', 'category']).columns.tolist()"
   ]
  },
  {
   "cell_type": "code",
   "execution_count": null,
   "metadata": {
    "colab": {
     "base_uri": "https://localhost:8080/"
    },
    "executionInfo": {
     "elapsed": 11,
     "status": "ok",
     "timestamp": 1749565213449,
     "user": {
      "displayName": "Nacho Zobian Massetti",
      "userId": "09869994053287143535"
     },
     "user_tz": -120
    },
    "id": "5yXTaPNtEr6m",
    "outputId": "660629c7-40f8-440d-999e-72043330993f"
   },
   "outputs": [
    {
     "name": "stdout",
     "output_type": "stream",
     "text": [
      "Columns in X (features):\n",
      "Index(['resultId', 'raceId', 'driverId', 'constructorId', 'number', 'grid',\n",
      "       'q1', 'q2', 'q3', 'qual_pos', 'date', 'year', 'round', 'circuitId',\n",
      "       'dob', 'nationality', 'age', 'season_pts'],\n",
      "      dtype='object')\n"
     ]
    }
   ],
   "source": [
    "print(\"Columns in X (features):\")\n",
    "print(X.columns)"
   ]
  },
  {
   "cell_type": "code",
   "execution_count": null,
   "metadata": {
    "id": "rObCBTMkbNet"
   },
   "outputs": [],
   "source": [
    "# ╔═══════════════════════════════════════════════════════════════╗\n",
    "# ║ 2. GROUP-BASED TRAIN / TEST SPLIT                             ║\n",
    "# ╚═══════════════════════════════════════════════════════════════╝\n",
    "from sklearn.model_selection import GroupShuffleSplit\n",
    "\n",
    "gss = GroupShuffleSplit(n_splits=1, test_size=0.20, random_state=42)\n",
    "train_idx, test_idx = next(gss.split(X, y, groups=groups))\n",
    "\n",
    "X_train, X_test = X.iloc[train_idx].copy(), X.iloc[test_idx].copy()\n",
    "y_train, y_test = y.iloc[train_idx], y.iloc[test_idx]\n",
    "groups_train    = groups.iloc[train_idx]\n"
   ]
  },
  {
   "cell_type": "code",
   "execution_count": null,
   "metadata": {
    "colab": {
     "base_uri": "https://localhost:8080/"
    },
    "executionInfo": {
     "elapsed": 44,
     "status": "ok",
     "timestamp": 1749565214716,
     "user": {
      "displayName": "Nacho Zobian Massetti",
      "userId": "09869994053287143535"
     },
     "user_tz": -120
    },
    "id": "aPLwgPvJkem2",
    "outputId": "682560d4-e40f-4251-a019-11eefa78d8e0"
   },
   "outputs": [
    {
     "name": "stdout",
     "output_type": "stream",
     "text": [
      "Columns in X (features):\n",
      "Index(['resultId', 'raceId', 'driverId', 'constructorId', 'number', 'grid',\n",
      "       'q1', 'q2', 'q3', 'qual_pos', 'date', 'year', 'round', 'circuitId',\n",
      "       'dob', 'nationality', 'age', 'season_pts'],\n",
      "      dtype='object')\n",
      "\n",
      "Correlations with 'is_winner':\n",
      "is_winner          1.000000\n",
      "winner             1.000000\n",
      "points             0.557565\n",
      "season_pts         0.272961\n",
      "laps               0.130351\n",
      "fastestLapSpeed    0.047744\n",
      "milliseconds       0.046882\n",
      "age                0.031231\n",
      "fastestLap         0.027696\n",
      "year               0.012976\n",
      "raceId             0.010153\n",
      "resultId           0.010052\n",
      "round              0.002058\n",
      "circuitId          0.001402\n",
      "constructorId     -0.039201\n",
      "driverId          -0.042486\n",
      "number            -0.078379\n",
      "statusId          -0.130393\n",
      "grid              -0.246271\n",
      "rank              -0.278670\n",
      "qual_pos          -0.318008\n",
      "positionOrder     -0.322919\n",
      "finish_pos        -0.401425\n",
      "Name: is_winner, dtype: float64\n"
     ]
    }
   ],
   "source": [
    "print(\"Columns in X (features):\")\n",
    "print(X.columns)\n",
    "\n",
    "# Select only numeric columns for correlation calculation\n",
    "numeric_df = df.select_dtypes(include=['number'])\n",
    "\n",
    "# Calculate correlations with the target variable 'is_winner'\n",
    "correlations = numeric_df.corr()['is_winner'].sort_values(ascending=False)\n",
    "print(\"\\nCorrelations with 'is_winner':\")\n",
    "print(correlations)"
   ]
  },
  {
   "cell_type": "code",
   "execution_count": null,
   "metadata": {
    "colab": {
     "base_uri": "https://localhost:8080/"
    },
    "executionInfo": {
     "elapsed": 6215,
     "status": "ok",
     "timestamp": 1749565223623,
     "user": {
      "displayName": "Nacho Zobian Massetti",
      "userId": "09869994053287143535"
     },
     "user_tz": -120
    },
    "id": "8Na76J_lbjGK",
    "outputId": "5b4c03a3-d64e-441b-e55a-21ac97cbc442"
   },
   "outputs": [
    {
     "name": "stdout",
     "output_type": "stream",
     "text": [
      "Baseline ROC-AUC: 0.9159\n"
     ]
    }
   ],
   "source": [
    "# ╔═══════════════════════════════════════════════════════════════╗\n",
    "# ║ 3. PRE-PROCESSING + BASELINE (LOGIT)                          ║\n",
    "# ╚═══════════════════════════════════════════════════════════════╝\n",
    "from sklearn.impute import SimpleImputer\n",
    "from sklearn.preprocessing import OneHotEncoder, StandardScaler\n",
    "from sklearn.compose import ColumnTransformer\n",
    "from sklearn.pipeline import Pipeline\n",
    "\n",
    "\n",
    "preprocess = ColumnTransformer(\n",
    "    [\n",
    "        # Numeric: median impute → scale\n",
    "        ('num',\n",
    "         Pipeline([\n",
    "             ('impute', SimpleImputer(strategy='median')),\n",
    "             ('scale',  StandardScaler())\n",
    "         ]),\n",
    "         numeric_cols),\n",
    "\n",
    "        # Categorical: most-frequent impute → one-hot\n",
    "        ('cat',\n",
    "         Pipeline([\n",
    "             ('impute', SimpleImputer(strategy='most_frequent')),\n",
    "             ('ohe',    OneHotEncoder(handle_unknown='ignore', sparse_output=True))\n",
    "         ]),\n",
    "         cat_cols)\n",
    "    ],\n",
    "    remainder='drop'\n",
    ")\n",
    "\n",
    "logit_clf = Pipeline([\n",
    "    ('prep', preprocess),\n",
    "    ('model', LogisticRegression(max_iter=500, class_weight='balanced'))\n",
    "])\n",
    "\n",
    "logit_clf.fit(X_train, y_train)\n",
    "logit_pred = logit_clf.predict_proba(X_test)[:,1]\n",
    "print(\"Baseline ROC-AUC:\", roc_auc_score(y_test, logit_pred).round(4))\n"
   ]
  },
  {
   "cell_type": "code",
   "execution_count": null,
   "metadata": {
    "colab": {
     "base_uri": "https://localhost:8080/"
    },
    "executionInfo": {
     "elapsed": 2015343,
     "status": "ok",
     "timestamp": 1749567242805,
     "user": {
      "displayName": "Nacho Zobian Massetti",
      "userId": "09869994053287143535"
     },
     "user_tz": -120
    },
    "id": "9pHGxDilblxF",
    "outputId": "fdb9e77c-f198-4685-c141-75a4192e588b"
   },
   "outputs": [
    {
     "name": "stdout",
     "output_type": "stream",
     "text": [
      "Fitting 4 folds for each of 25 candidates, totalling 100 fits\n"
     ]
    },
    {
     "name": "stderr",
     "output_type": "stream",
     "text": [
      "/usr/local/lib/python3.11/dist-packages/sklearn/utils/deprecation.py:151: FutureWarning: 'force_all_finite' was renamed to 'ensure_all_finite' in 1.6 and will be removed in 1.8.\n",
      "  warnings.warn(\n"
     ]
    },
    {
     "name": "stdout",
     "output_type": "stream",
     "text": [
      "[LightGBM] [Info] Number of positive: 909, number of negative: 20512\n",
      "[LightGBM] [Info] Auto-choosing col-wise multi-threading, the overhead of testing was 0.003413 seconds.\n",
      "You can set `force_col_wise=true` to remove the overhead.\n",
      "[LightGBM] [Info] Total Bins 1633\n",
      "[LightGBM] [Info] Number of data points in the train set: 21421, number of used features: 47\n",
      "[LightGBM] [Info] [binary:BoostFromScore]: pavg=0.500000 -> initscore=-0.000000\n",
      "[LightGBM] [Info] Start training from score -0.000000\n",
      "Best CV ROC-AUC: 0.9605\n",
      "Best params: {'model__subsample': 0.7, 'model__num_leaves': 31, 'model__max_depth': -1, 'model__learning_rate': 0.01, 'model__colsample_bytree': 0.8}\n"
     ]
    }
   ],
   "source": [
    "# ╔═══════════════════════════════════════════════════════════════╗\n",
    "# ║ 4. LIGHTGBM + RANDOMISED SEARCH                               ║\n",
    "# ╚═══════════════════════════════════════════════════════════════╝\n",
    "from lightgbm import LGBMClassifier\n",
    "from sklearn.model_selection import RandomizedSearchCV, StratifiedKFold\n",
    "\n",
    "lgbm = LGBMClassifier(objective='binary', n_estimators=800, class_weight='balanced',\n",
    "                      random_state=42, n_jobs=-1)\n",
    "\n",
    "param_dist = {\n",
    "    'model__num_leaves':       [31, 50, 75, 100],\n",
    "    'model__learning_rate':    [0.01, 0.03, 0.05],\n",
    "    'model__max_depth':        [-1, 10, 20, 40],\n",
    "    'model__subsample':        [0.7, 0.8, 0.9, 1.0],\n",
    "    'model__colsample_bytree': [0.7, 0.8, 0.9, 1.0]\n",
    "}\n",
    "\n",
    "lgbm_pipe = Pipeline([\n",
    "    ('prep', preprocess),\n",
    "    ('model', lgbm)\n",
    "])\n",
    "\n",
    "cv = StratifiedKFold(n_splits=4, shuffle=True, random_state=42)\n",
    "search = RandomizedSearchCV(lgbm_pipe, param_dist,\n",
    "                            n_iter=25, scoring='roc_auc',\n",
    "                            cv=cv, verbose=1, n_jobs=-1, refit=True)\n",
    "\n",
    "search.fit(X_train, y_train)\n",
    "print(\"Best CV ROC-AUC:\", search.best_score_.round(4))\n",
    "print(\"Best params:\", search.best_params_)\n"
   ]
  },
  {
   "cell_type": "code",
   "execution_count": null,
   "metadata": {
    "id": "dLj7AMWccEHs"
   },
   "outputs": [],
   "source": [
    "# ╔═══════════════════════════════════════════════════════════════╗\n",
    "# ║ 5. PER-RACE TOP-1 ACCURACY & ROC-AUC                          ║\n",
    "# ╚═══════════════════════════════════════════════════════════════╝\n",
    "from sklearn.metrics import roc_auc_score\n",
    "\n",
    "def per_race_metrics(model, X, y, race_ids):\n",
    "    \"\"\"\n",
    "    Returns Top-1 accuracy (did we pick the real winner per race?)\n",
    "    and overall ROC-AUC.\n",
    "    \"\"\"\n",
    "    proba = model.predict_proba(X)[:,1]\n",
    "    df_eval = pd.DataFrame({'raceId': race_ids, 'y': y.values, 'p': proba})\n",
    "\n",
    "    # Top-1 accuracy\n",
    "    top1_correct = []\n",
    "    for rid, grp in df_eval.groupby('raceId'):\n",
    "        winner_pred = grp.loc[grp['p'].idxmax(), 'y']\n",
    "        top1_correct.append(winner_pred == 1)\n",
    "    top1 = np.mean(top1_correct)\n",
    "\n",
    "    # ROC-AUC (global, not per-race)\n",
    "    auc = roc_auc_score(y, proba)\n",
    "\n",
    "    return top1, auc"
   ]
  },
  {
   "cell_type": "markdown",
   "metadata": {
    "id": "B0FdMRpDNYVL"
   },
   "source": []
  },
  {
   "cell_type": "code",
   "execution_count": null,
   "metadata": {
    "colab": {
     "base_uri": "https://localhost:8080/",
     "height": 922
    },
    "executionInfo": {
     "elapsed": 602,
     "status": "ok",
     "timestamp": 1749567460567,
     "user": {
      "displayName": "Nacho Zobian Massetti",
      "userId": "09869994053287143535"
     },
     "user_tz": -120
    },
    "id": "8wKdeuZ9NcYF",
    "outputId": "1051f9b6-d37d-4e70-b033-2505bcc023f0"
   },
   "outputs": [
    {
     "name": "stderr",
     "output_type": "stream",
     "text": [
      "/usr/local/lib/python3.11/dist-packages/sklearn/utils/deprecation.py:151: FutureWarning: 'force_all_finite' was renamed to 'ensure_all_finite' in 1.6 and will be removed in 1.8.\n",
      "  warnings.warn(\n"
     ]
    },
    {
     "name": "stdout",
     "output_type": "stream",
     "text": [
      "Top-1 accuracy : 0.524\n",
      "ROC-AUC        : 0.963\n"
     ]
    },
    {
     "data": {
      "application/vnd.google.colaboratory.intrinsic+json": {
       "summary": "{\n  \"name\": \"display(fi\",\n  \"rows\": 25,\n  \"fields\": [\n    {\n      \"column\": \"importance\",\n      \"properties\": {\n        \"dtype\": \"int32\",\n        \"num_unique_values\": 25,\n        \"samples\": [\n          1322,\n          101,\n          4881\n        ],\n        \"semantic_type\": \"\",\n        \"description\": \"\"\n      }\n    }\n  ]\n}",
       "type": "dataframe"
      },
      "text/html": [
       "\n",
       "  <div id=\"df-d270b078-678e-4302-b691-f72a290c250b\" class=\"colab-df-container\">\n",
       "    <div>\n",
       "<style scoped>\n",
       "    .dataframe tbody tr th:only-of-type {\n",
       "        vertical-align: middle;\n",
       "    }\n",
       "\n",
       "    .dataframe tbody tr th {\n",
       "        vertical-align: top;\n",
       "    }\n",
       "\n",
       "    .dataframe thead th {\n",
       "        text-align: right;\n",
       "    }\n",
       "</style>\n",
       "<table border=\"1\" class=\"dataframe\">\n",
       "  <thead>\n",
       "    <tr style=\"text-align: right;\">\n",
       "      <th></th>\n",
       "      <th>importance</th>\n",
       "    </tr>\n",
       "  </thead>\n",
       "  <tbody>\n",
       "    <tr>\n",
       "      <th>num__season_pts</th>\n",
       "      <td>4881</td>\n",
       "    </tr>\n",
       "    <tr>\n",
       "      <th>num__round</th>\n",
       "      <td>2496</td>\n",
       "    </tr>\n",
       "    <tr>\n",
       "      <th>num__grid</th>\n",
       "      <td>2417</td>\n",
       "    </tr>\n",
       "    <tr>\n",
       "      <th>num__number</th>\n",
       "      <td>1960</td>\n",
       "    </tr>\n",
       "    <tr>\n",
       "      <th>num__resultId</th>\n",
       "      <td>1945</td>\n",
       "    </tr>\n",
       "    <tr>\n",
       "      <th>num__circuitId</th>\n",
       "      <td>1675</td>\n",
       "    </tr>\n",
       "    <tr>\n",
       "      <th>num__age</th>\n",
       "      <td>1478</td>\n",
       "    </tr>\n",
       "    <tr>\n",
       "      <th>num__driverId</th>\n",
       "      <td>1366</td>\n",
       "    </tr>\n",
       "    <tr>\n",
       "      <th>num__year</th>\n",
       "      <td>1322</td>\n",
       "    </tr>\n",
       "    <tr>\n",
       "      <th>num__constructorId</th>\n",
       "      <td>1136</td>\n",
       "    </tr>\n",
       "    <tr>\n",
       "      <th>num__raceId</th>\n",
       "      <td>1046</td>\n",
       "    </tr>\n",
       "    <tr>\n",
       "      <th>num__qual_pos</th>\n",
       "      <td>738</td>\n",
       "    </tr>\n",
       "    <tr>\n",
       "      <th>cat__nationality_British</th>\n",
       "      <td>231</td>\n",
       "    </tr>\n",
       "    <tr>\n",
       "      <th>cat__nationality_Finnish</th>\n",
       "      <td>142</td>\n",
       "    </tr>\n",
       "    <tr>\n",
       "      <th>cat__nationality_French</th>\n",
       "      <td>138</td>\n",
       "    </tr>\n",
       "    <tr>\n",
       "      <th>cat__nationality_Italian</th>\n",
       "      <td>104</td>\n",
       "    </tr>\n",
       "    <tr>\n",
       "      <th>cat__nationality_German</th>\n",
       "      <td>101</td>\n",
       "    </tr>\n",
       "    <tr>\n",
       "      <th>cat__nationality_New Zealander</th>\n",
       "      <td>95</td>\n",
       "    </tr>\n",
       "    <tr>\n",
       "      <th>cat__nationality_Dutch</th>\n",
       "      <td>90</td>\n",
       "    </tr>\n",
       "    <tr>\n",
       "      <th>cat__nationality_Polish</th>\n",
       "      <td>66</td>\n",
       "    </tr>\n",
       "    <tr>\n",
       "      <th>cat__q1_1:20.382</th>\n",
       "      <td>55</td>\n",
       "    </tr>\n",
       "    <tr>\n",
       "      <th>cat__nationality_Brazilian</th>\n",
       "      <td>54</td>\n",
       "    </tr>\n",
       "    <tr>\n",
       "      <th>cat__nationality_Swedish</th>\n",
       "      <td>53</td>\n",
       "    </tr>\n",
       "    <tr>\n",
       "      <th>cat__nationality_Austrian</th>\n",
       "      <td>51</td>\n",
       "    </tr>\n",
       "    <tr>\n",
       "      <th>cat__q2_1:12.188</th>\n",
       "      <td>45</td>\n",
       "    </tr>\n",
       "  </tbody>\n",
       "</table>\n",
       "</div>\n",
       "    <div class=\"colab-df-buttons\">\n",
       "\n",
       "  <div class=\"colab-df-container\">\n",
       "    <button class=\"colab-df-convert\" onclick=\"convertToInteractive('df-d270b078-678e-4302-b691-f72a290c250b')\"\n",
       "            title=\"Convert this dataframe to an interactive table.\"\n",
       "            style=\"display:none;\">\n",
       "\n",
       "  <svg xmlns=\"http://www.w3.org/2000/svg\" height=\"24px\" viewBox=\"0 -960 960 960\">\n",
       "    <path d=\"M120-120v-720h720v720H120Zm60-500h600v-160H180v160Zm220 220h160v-160H400v160Zm0 220h160v-160H400v160ZM180-400h160v-160H180v160Zm440 0h160v-160H620v160ZM180-180h160v-160H180v160Zm440 0h160v-160H620v160Z\"/>\n",
       "  </svg>\n",
       "    </button>\n",
       "\n",
       "  <style>\n",
       "    .colab-df-container {\n",
       "      display:flex;\n",
       "      gap: 12px;\n",
       "    }\n",
       "\n",
       "    .colab-df-convert {\n",
       "      background-color: #E8F0FE;\n",
       "      border: none;\n",
       "      border-radius: 50%;\n",
       "      cursor: pointer;\n",
       "      display: none;\n",
       "      fill: #1967D2;\n",
       "      height: 32px;\n",
       "      padding: 0 0 0 0;\n",
       "      width: 32px;\n",
       "    }\n",
       "\n",
       "    .colab-df-convert:hover {\n",
       "      background-color: #E2EBFA;\n",
       "      box-shadow: 0px 1px 2px rgba(60, 64, 67, 0.3), 0px 1px 3px 1px rgba(60, 64, 67, 0.15);\n",
       "      fill: #174EA6;\n",
       "    }\n",
       "\n",
       "    .colab-df-buttons div {\n",
       "      margin-bottom: 4px;\n",
       "    }\n",
       "\n",
       "    [theme=dark] .colab-df-convert {\n",
       "      background-color: #3B4455;\n",
       "      fill: #D2E3FC;\n",
       "    }\n",
       "\n",
       "    [theme=dark] .colab-df-convert:hover {\n",
       "      background-color: #434B5C;\n",
       "      box-shadow: 0px 1px 3px 1px rgba(0, 0, 0, 0.15);\n",
       "      filter: drop-shadow(0px 1px 2px rgba(0, 0, 0, 0.3));\n",
       "      fill: #FFFFFF;\n",
       "    }\n",
       "  </style>\n",
       "\n",
       "    <script>\n",
       "      const buttonEl =\n",
       "        document.querySelector('#df-d270b078-678e-4302-b691-f72a290c250b button.colab-df-convert');\n",
       "      buttonEl.style.display =\n",
       "        google.colab.kernel.accessAllowed ? 'block' : 'none';\n",
       "\n",
       "      async function convertToInteractive(key) {\n",
       "        const element = document.querySelector('#df-d270b078-678e-4302-b691-f72a290c250b');\n",
       "        const dataTable =\n",
       "          await google.colab.kernel.invokeFunction('convertToInteractive',\n",
       "                                                    [key], {});\n",
       "        if (!dataTable) return;\n",
       "\n",
       "        const docLinkHtml = 'Like what you see? Visit the ' +\n",
       "          '<a target=\"_blank\" href=https://colab.research.google.com/notebooks/data_table.ipynb>data table notebook</a>'\n",
       "          + ' to learn more about interactive tables.';\n",
       "        element.innerHTML = '';\n",
       "        dataTable['output_type'] = 'display_data';\n",
       "        await google.colab.output.renderOutput(dataTable, element);\n",
       "        const docLink = document.createElement('div');\n",
       "        docLink.innerHTML = docLinkHtml;\n",
       "        element.appendChild(docLink);\n",
       "      }\n",
       "    </script>\n",
       "  </div>\n",
       "\n",
       "\n",
       "    <div id=\"df-5e86f595-7221-411c-adf6-10593ef7bd67\">\n",
       "      <button class=\"colab-df-quickchart\" onclick=\"quickchart('df-5e86f595-7221-411c-adf6-10593ef7bd67')\"\n",
       "                title=\"Suggest charts\"\n",
       "                style=\"display:none;\">\n",
       "\n",
       "<svg xmlns=\"http://www.w3.org/2000/svg\" height=\"24px\"viewBox=\"0 0 24 24\"\n",
       "     width=\"24px\">\n",
       "    <g>\n",
       "        <path d=\"M19 3H5c-1.1 0-2 .9-2 2v14c0 1.1.9 2 2 2h14c1.1 0 2-.9 2-2V5c0-1.1-.9-2-2-2zM9 17H7v-7h2v7zm4 0h-2V7h2v10zm4 0h-2v-4h2v4z\"/>\n",
       "    </g>\n",
       "</svg>\n",
       "      </button>\n",
       "\n",
       "<style>\n",
       "  .colab-df-quickchart {\n",
       "      --bg-color: #E8F0FE;\n",
       "      --fill-color: #1967D2;\n",
       "      --hover-bg-color: #E2EBFA;\n",
       "      --hover-fill-color: #174EA6;\n",
       "      --disabled-fill-color: #AAA;\n",
       "      --disabled-bg-color: #DDD;\n",
       "  }\n",
       "\n",
       "  [theme=dark] .colab-df-quickchart {\n",
       "      --bg-color: #3B4455;\n",
       "      --fill-color: #D2E3FC;\n",
       "      --hover-bg-color: #434B5C;\n",
       "      --hover-fill-color: #FFFFFF;\n",
       "      --disabled-bg-color: #3B4455;\n",
       "      --disabled-fill-color: #666;\n",
       "  }\n",
       "\n",
       "  .colab-df-quickchart {\n",
       "    background-color: var(--bg-color);\n",
       "    border: none;\n",
       "    border-radius: 50%;\n",
       "    cursor: pointer;\n",
       "    display: none;\n",
       "    fill: var(--fill-color);\n",
       "    height: 32px;\n",
       "    padding: 0;\n",
       "    width: 32px;\n",
       "  }\n",
       "\n",
       "  .colab-df-quickchart:hover {\n",
       "    background-color: var(--hover-bg-color);\n",
       "    box-shadow: 0 1px 2px rgba(60, 64, 67, 0.3), 0 1px 3px 1px rgba(60, 64, 67, 0.15);\n",
       "    fill: var(--button-hover-fill-color);\n",
       "  }\n",
       "\n",
       "  .colab-df-quickchart-complete:disabled,\n",
       "  .colab-df-quickchart-complete:disabled:hover {\n",
       "    background-color: var(--disabled-bg-color);\n",
       "    fill: var(--disabled-fill-color);\n",
       "    box-shadow: none;\n",
       "  }\n",
       "\n",
       "  .colab-df-spinner {\n",
       "    border: 2px solid var(--fill-color);\n",
       "    border-color: transparent;\n",
       "    border-bottom-color: var(--fill-color);\n",
       "    animation:\n",
       "      spin 1s steps(1) infinite;\n",
       "  }\n",
       "\n",
       "  @keyframes spin {\n",
       "    0% {\n",
       "      border-color: transparent;\n",
       "      border-bottom-color: var(--fill-color);\n",
       "      border-left-color: var(--fill-color);\n",
       "    }\n",
       "    20% {\n",
       "      border-color: transparent;\n",
       "      border-left-color: var(--fill-color);\n",
       "      border-top-color: var(--fill-color);\n",
       "    }\n",
       "    30% {\n",
       "      border-color: transparent;\n",
       "      border-left-color: var(--fill-color);\n",
       "      border-top-color: var(--fill-color);\n",
       "      border-right-color: var(--fill-color);\n",
       "    }\n",
       "    40% {\n",
       "      border-color: transparent;\n",
       "      border-right-color: var(--fill-color);\n",
       "      border-top-color: var(--fill-color);\n",
       "    }\n",
       "    60% {\n",
       "      border-color: transparent;\n",
       "      border-right-color: var(--fill-color);\n",
       "    }\n",
       "    80% {\n",
       "      border-color: transparent;\n",
       "      border-right-color: var(--fill-color);\n",
       "      border-bottom-color: var(--fill-color);\n",
       "    }\n",
       "    90% {\n",
       "      border-color: transparent;\n",
       "      border-bottom-color: var(--fill-color);\n",
       "    }\n",
       "  }\n",
       "</style>\n",
       "\n",
       "      <script>\n",
       "        async function quickchart(key) {\n",
       "          const quickchartButtonEl =\n",
       "            document.querySelector('#' + key + ' button');\n",
       "          quickchartButtonEl.disabled = true;  // To prevent multiple clicks.\n",
       "          quickchartButtonEl.classList.add('colab-df-spinner');\n",
       "          try {\n",
       "            const charts = await google.colab.kernel.invokeFunction(\n",
       "                'suggestCharts', [key], {});\n",
       "          } catch (error) {\n",
       "            console.error('Error during call to suggestCharts:', error);\n",
       "          }\n",
       "          quickchartButtonEl.classList.remove('colab-df-spinner');\n",
       "          quickchartButtonEl.classList.add('colab-df-quickchart-complete');\n",
       "        }\n",
       "        (() => {\n",
       "          let quickchartButtonEl =\n",
       "            document.querySelector('#df-5e86f595-7221-411c-adf6-10593ef7bd67 button');\n",
       "          quickchartButtonEl.style.display =\n",
       "            google.colab.kernel.accessAllowed ? 'block' : 'none';\n",
       "        })();\n",
       "      </script>\n",
       "    </div>\n",
       "\n",
       "    </div>\n",
       "  </div>\n"
      ],
      "text/plain": [
       "                                importance\n",
       "num__season_pts                       4881\n",
       "num__round                            2496\n",
       "num__grid                             2417\n",
       "num__number                           1960\n",
       "num__resultId                         1945\n",
       "num__circuitId                        1675\n",
       "num__age                              1478\n",
       "num__driverId                         1366\n",
       "num__year                             1322\n",
       "num__constructorId                    1136\n",
       "num__raceId                           1046\n",
       "num__qual_pos                          738\n",
       "cat__nationality_British               231\n",
       "cat__nationality_Finnish               142\n",
       "cat__nationality_French                138\n",
       "cat__nationality_Italian               104\n",
       "cat__nationality_German                101\n",
       "cat__nationality_New Zealander          95\n",
       "cat__nationality_Dutch                  90\n",
       "cat__nationality_Polish                 66\n",
       "cat__q1_1:20.382                        55\n",
       "cat__nationality_Brazilian              54\n",
       "cat__nationality_Swedish                53\n",
       "cat__nationality_Austrian               51\n",
       "cat__q2_1:12.188                        45"
      ]
     },
     "metadata": {},
     "output_type": "display_data"
    }
   ],
   "source": [
    "# ╔═══════════════════════════════════════════════════════════════╗\n",
    "# ║ 6. FINAL EVALUATION & FEATURE IMPORTANCE                      ║\n",
    "# ╚═══════════════════════════════════════════════════════════════╝\n",
    "best_model = search.best_estimator_\n",
    "\n",
    "top1, auc  = per_race_metrics(best_model, X_test, y_test, race_ids=groups.iloc[test_idx])\n",
    "print(f\"Top-1 accuracy : {top1:.3f}\")\n",
    "print(f\"ROC-AUC        : {auc:.3f}\")\n",
    "\n",
    "# -- LightGBM feature importances ----------------------------------------\n",
    "importances = best_model.named_steps['model'].feature_importances_\n",
    "feature_names = best_model.named_steps['prep'].get_feature_names_out()\n",
    "fi = (pd.Series(importances, index=feature_names)\n",
    "        .sort_values(ascending=False).head(25))\n",
    "display(fi.to_frame('importance'))\n"
   ]
  },
  {
   "cell_type": "code",
   "execution_count": 86,
   "metadata": {
    "colab": {
     "base_uri": "https://localhost:8080/"
    },
    "executionInfo": {
     "elapsed": 696,
     "status": "ok",
     "timestamp": 1749579231293,
     "user": {
      "displayName": "Nacho Zobian Massetti",
      "userId": "09869994053287143535"
     },
     "user_tz": -120
    },
    "id": "slfLqZw-Ncqb",
    "outputId": "b3d9b832-e55a-4524-fce9-935e798521b8"
   },
   "outputs": [
    {
     "data": {
      "text/plain": [
       "['model.pkl']"
      ]
     },
     "execution_count": 86,
     "metadata": {},
     "output_type": "execute_result"
    }
   ],
   "source": [
    "import joblib\n",
    "joblib.dump(best_model, \"model.pkl\")"
   ]
  },
  {
   "cell_type": "code",
   "execution_count": null,
   "metadata": {
    "id": "p_WwPHvLDCq6"
   },
   "outputs": [],
   "source": []
  }
 ],
 "metadata": {
  "colab": {
   "authorship_tag": "ABX9TyML3F+is6My4+eL0vReCrfI",
   "provenance": []
  },
  "kernelspec": {
   "display_name": "Python 3",
   "name": "python3"
  },
  "language_info": {
   "name": "python"
  }
 },
 "nbformat": 4,
 "nbformat_minor": 0
}
